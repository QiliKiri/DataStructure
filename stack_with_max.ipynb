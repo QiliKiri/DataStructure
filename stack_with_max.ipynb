{
 "cells": [
  {
   "cell_type": "code",
   "execution_count": 1,
   "id": "1cf30071-e36b-4247-b9b3-6b780c7b63a1",
   "metadata": {},
   "outputs": [],
   "source": [
    "class StackWithMax():\n",
    "    def __init__(self):\n",
    "        self.__stack = []\n",
    "        self.max = None\n",
    "\n",
    "    def Push(self, a):\n",
    "        if self.__stack == []:\n",
    "            self.__stack.append(a)\n",
    "            self.max = a\n",
    "        elif a > self.max:\n",
    "            self.__stack.append(2*a - self.max)\n",
    "            self.max = a\n",
    "        else:\n",
    "            self.__stack.append(a)\n",
    "\n",
    "    def Pop(self):\n",
    "        assert(len(self.__stack))\n",
    "        popout = self.__stack.pop()\n",
    "        if popout > self.max:\n",
    "            lastmax = self.max\n",
    "            self.max = 2*lastmax - popout\n",
    "            return lastmax\n",
    "        else:\n",
    "            return popout\n",
    "\n",
    "    def Max(self):\n",
    "        assert(len(self.__stack))\n",
    "        return self.max"
   ]
  },
  {
   "cell_type": "code",
   "execution_count": 6,
   "id": "5d6649ec-3cbf-44f3-b196-bec850eace32",
   "metadata": {},
   "outputs": [
    {
     "name": "stdin",
     "output_type": "stream",
     "text": [
      " 5\n",
      " push 2\n",
      " push 1\n",
      " max\n"
     ]
    },
    {
     "name": "stdout",
     "output_type": "stream",
     "text": [
      "2\n"
     ]
    },
    {
     "name": "stdin",
     "output_type": "stream",
     "text": [
      " pop\n",
      " max\n"
     ]
    },
    {
     "name": "stdout",
     "output_type": "stream",
     "text": [
      "2\n"
     ]
    }
   ],
   "source": [
    "stack = StackWithMax()\n",
    "\n",
    "num_queries = int(input())\n",
    "for _ in range(num_queries):\n",
    "    query = input().split()\n",
    "\n",
    "    if query[0] == \"push\":\n",
    "        stack.Push(int(query[1]))\n",
    "    elif query[0] == \"pop\":\n",
    "        stack.Pop()\n",
    "    elif query[0] == \"max\":\n",
    "        print(stack.Max())\n",
    "    else:\n",
    "        assert(0)"
   ]
  },
  {
   "cell_type": "code",
   "execution_count": null,
   "id": "bd81ac5e-1794-4eee-a250-dfc3cd31d54a",
   "metadata": {},
   "outputs": [],
   "source": [
    "5\n",
    "push 2\n",
    "push 1\n",
    "max\n",
    "pop\n",
    "max"
   ]
  }
 ],
 "metadata": {
  "kernelspec": {
   "display_name": "Python 3",
   "language": "python",
   "name": "python3"
  },
  "language_info": {
   "codemirror_mode": {
    "name": "ipython",
    "version": 3
   },
   "file_extension": ".py",
   "mimetype": "text/x-python",
   "name": "python",
   "nbconvert_exporter": "python",
   "pygments_lexer": "ipython3",
   "version": "3.9.0"
  }
 },
 "nbformat": 4,
 "nbformat_minor": 5
}
