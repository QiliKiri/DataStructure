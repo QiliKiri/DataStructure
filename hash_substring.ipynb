{
 "cells": [
  {
   "cell_type": "code",
   "execution_count": 168,
   "id": "47ff1976-bc89-4a2b-84c3-7e4d04b33fcf",
   "metadata": {},
   "outputs": [],
   "source": [
    "class Hash_substring:\n",
    "    p = 10**9 + 7\n",
    "    x = 1\n",
    "    \n",
    "    def __init__(self):\n",
    "        self.sub = input().strip()\n",
    "        self.text = input().strip()\n",
    "        self.hashtable = [0] * (len(self.text)-len(self.sub)+1)\n",
    "        \n",
    "    def hash_func(self, s):\n",
    "        ans = 0\n",
    "        for i in range(len(s)):\n",
    "            ans += ord(s[i])*(self.x**i) % self.p\n",
    "        return ans\n",
    "    \n",
    "    def precomputeHash(self):\n",
    "        last_string = self.text[len(self.text)-len(self.sub):len(self.text)]\n",
    "        self.hashtable[len(self.text)-len(self.sub)] = self.hash_func(last_string)\n",
    "        y = 1\n",
    "        for _ in range(len(self.sub)):\n",
    "            y = y*self.x % self.p\n",
    "        \n",
    "        for i in range(len(self.text)-len(self.sub)-1, -1, -1):\n",
    "            pre = (self.x*self.hashtable[i+1] \n",
    "                    + ord(self.text[i])\n",
    "                    - y*ord(self.text[i+len(self.sub)]))\n",
    "            self.hashtable[i] = (pre%self.p + self.p) % self.p\n",
    "        \n",
    "    def rabin_karp(self):\n",
    "        result = []\n",
    "        hval = self.hash_func(self.sub)\n",
    "        for i in range(0, len(self.text)-len(self.sub)+1):\n",
    "            if self.hashtable[i] != hval:\n",
    "                continue\n",
    "            if self.text[i:i+len(self.sub)] == self.sub:\n",
    "                result.append(i)\n",
    "        \n",
    "        return result\n",
    "\n",
    "    def processing(self):\n",
    "        self.precomputeHash()\n",
    "        result = self.rabin_karp()\n",
    "        print(' '.join(map(str, result)))\n",
    "        "
   ]
  },
  {
   "cell_type": "code",
   "execution_count": 169,
   "id": "366d9265-d71e-4ada-83f8-947e9681fca9",
   "metadata": {},
   "outputs": [
    {
     "name": "stdin",
     "output_type": "stream",
     "text": [
      " aba\n",
      " abacaba\n"
     ]
    },
    {
     "name": "stdout",
     "output_type": "stream",
     "text": [
      "0 4\n"
     ]
    }
   ],
   "source": [
    "a = Hash_substring()\n",
    "a.processing()"
   ]
  },
  {
   "cell_type": "code",
   "execution_count": null,
   "id": "dda952fd-19f4-4b54-a7a4-b9f8dffd0570",
   "metadata": {},
   "outputs": [],
   "source": []
  }
 ],
 "metadata": {
  "kernelspec": {
   "display_name": "Python 3",
   "language": "python",
   "name": "python3"
  },
  "language_info": {
   "codemirror_mode": {
    "name": "ipython",
    "version": 3
   },
   "file_extension": ".py",
   "mimetype": "text/x-python",
   "name": "python",
   "nbconvert_exporter": "python",
   "pygments_lexer": "ipython3",
   "version": "3.9.0"
  }
 },
 "nbformat": 4,
 "nbformat_minor": 5
}
