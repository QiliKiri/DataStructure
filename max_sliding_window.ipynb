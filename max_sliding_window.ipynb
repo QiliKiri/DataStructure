{
 "cells": [
  {
   "cell_type": "code",
   "execution_count": 1,
   "id": "96ef52f4-d4af-4c9e-87b8-03b20f95f6c1",
   "metadata": {},
   "outputs": [],
   "source": [
    "from collections import deque"
   ]
  },
  {
   "cell_type": "code",
   "execution_count": 16,
   "id": "14e87f31-fad6-459f-bb07-4495fb1f6404",
   "metadata": {},
   "outputs": [],
   "source": [
    "def max_sliding_window(sequence, m):\n",
    "    q = deque()\n",
    "    \n",
    "    for i in range(0, m): \n",
    "        while q and sequence[q[-1]] <= sequence[i]:\n",
    "            q.pop()\n",
    "        q.append(i)\n",
    "    \n",
    "    maximum = []\n",
    "    \n",
    "    for i in range(m-1, len(sequence)):\n",
    "        if q[0] == i-m:\n",
    "            q.popleft()\n",
    "        while q and sequence[q[-1]] <= sequence[i]:\n",
    "            q.pop()\n",
    "        q.append(i)\n",
    "        maximum.append(sequence[q[0]])\n",
    "    return maximum"
   ]
  },
  {
   "cell_type": "code",
   "execution_count": 17,
   "id": "4f79d6cb-bec7-4296-812f-402f8f94e75c",
   "metadata": {},
   "outputs": [
    {
     "data": {
      "text/plain": [
       "[7, 7, 5, 6, 6]"
      ]
     },
     "execution_count": 17,
     "metadata": {},
     "output_type": "execute_result"
    }
   ],
   "source": [
    "sequence = [2, 7, 3, 1, 5, 2, 6, 2]\n",
    "m = 4\n",
    "max_sliding_window(sequence, m)"
   ]
  },
  {
   "cell_type": "code",
   "execution_count": 18,
   "id": "dee3b60a-c0dd-441f-ab5b-3097acd7edf2",
   "metadata": {},
   "outputs": [
    {
     "data": {
      "text/plain": [
       "[6, 5, 4, 3, 2]"
      ]
     },
     "execution_count": 18,
     "metadata": {},
     "output_type": "execute_result"
    }
   ],
   "source": [
    "sequence = [6,5,4,3,2,1]\n",
    "m = 2\n",
    "max_sliding_window(sequence, m)"
   ]
  },
  {
   "cell_type": "code",
   "execution_count": 19,
   "id": "ac9a0de8-5363-4660-b99c-eee7d819a372",
   "metadata": {},
   "outputs": [
    {
     "name": "stdin",
     "output_type": "stream",
     "text": [
      " 0 1 1 0 1 1 0 1 0 1 1 1 1 1 1 0 1 0 1 0 0 1 1 0 1 0 1 1 1 0 0 0 0 1 1 0 0 1 0 0 0 1 0 0 0 0 0 0 0 0 0 0 0 1 1 0 0 0 1 1\n"
     ]
    },
    {
     "data": {
      "text/plain": [
       "[1,\n",
       " 1,\n",
       " 1,\n",
       " 1,\n",
       " 1,\n",
       " 1,\n",
       " 1,\n",
       " 1,\n",
       " 1,\n",
       " 1,\n",
       " 1,\n",
       " 1,\n",
       " 1,\n",
       " 1,\n",
       " 1,\n",
       " 1,\n",
       " 1,\n",
       " 1,\n",
       " 1,\n",
       " 1,\n",
       " 1,\n",
       " 1,\n",
       " 1,\n",
       " 1,\n",
       " 1,\n",
       " 1,\n",
       " 1,\n",
       " 1,\n",
       " 1,\n",
       " 0,\n",
       " 0,\n",
       " 1,\n",
       " 1,\n",
       " 1,\n",
       " 1,\n",
       " 1,\n",
       " 1,\n",
       " 1,\n",
       " 0,\n",
       " 1,\n",
       " 1,\n",
       " 1,\n",
       " 0,\n",
       " 0,\n",
       " 0,\n",
       " 0,\n",
       " 0,\n",
       " 0,\n",
       " 0,\n",
       " 0,\n",
       " 0,\n",
       " 1,\n",
       " 1,\n",
       " 1,\n",
       " 1,\n",
       " 0,\n",
       " 1,\n",
       " 1]"
      ]
     },
     "execution_count": 19,
     "metadata": {},
     "output_type": "execute_result"
    }
   ],
   "source": [
    "sequence = list(map(int, input().split()))\n",
    "m = 3\n",
    "max_sliding_window(sequence, m)"
   ]
  },
  {
   "cell_type": "code",
   "execution_count": null,
   "id": "5929f3dc-1f4d-4d10-bf1e-7bd84b6e1423",
   "metadata": {},
   "outputs": [],
   "source": [
    "0 1 1 0 1 1 0 1 0 1 1 1 1 1 1 0 1 0 1 0 0 1 1 0 1 0 1 1 1 0 0 0 0 1 1 0 0 1 0 0 0 1 0 0 0 0 0 0 0 0 0 0 0 1 1 0 0 0 1 11 1 1 1 1 1 1 1 1 1 1 1 1 1 1 1 1 1 1 1 1 1 1 1 1 1 1 1 1 0 0 1 1 1 1 1 1 1 0 1 1 1 0 0 0 0 0 0 0 0 0 1 1 1 1 0 1 1"
   ]
  }
 ],
 "metadata": {
  "kernelspec": {
   "display_name": "Python 3",
   "language": "python",
   "name": "python3"
  },
  "language_info": {
   "codemirror_mode": {
    "name": "ipython",
    "version": 3
   },
   "file_extension": ".py",
   "mimetype": "text/x-python",
   "name": "python",
   "nbconvert_exporter": "python",
   "pygments_lexer": "ipython3",
   "version": "3.9.0"
  }
 },
 "nbformat": 4,
 "nbformat_minor": 5
}
