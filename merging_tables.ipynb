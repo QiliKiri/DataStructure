{
 "cells": [
  {
   "cell_type": "code",
   "execution_count": 8,
   "id": "9fada1f1-da48-42df-9a69-b756b6bd81b9",
   "metadata": {},
   "outputs": [],
   "source": [
    "class Database:\n",
    "    def __init__(self, row_counts):\n",
    "        self.row_counts = row_counts\n",
    "        self.max_row_count = max(row_counts)\n",
    "        n_tables = len(row_counts)\n",
    "        self.ranks = [1] * n_tables\n",
    "        self.parents = list(range(n_tables))\n",
    "\n",
    "    def merge(self, src, dst):\n",
    "        src_parent = self.get_parent(src)\n",
    "        dst_parent = self.get_parent(dst)\n",
    "\n",
    "        if src_parent == dst_parent:\n",
    "            return False\n",
    "\n",
    "        # merge two components\n",
    "        # use union by rank heuristic\n",
    "        # update max_row_count with the new maximum table size\n",
    "        if self.ranks[src_parent] > self.ranks[dst_parent]:\n",
    "            self.parents[dst_parent] = src_parent\n",
    "            row_count = self.row_counts[src_parent] + self.row_counts[dst_parent]\n",
    "            self.row_counts[src_parent] = row_count\n",
    "        else:\n",
    "            self.parents[src_parent] = dst_parent\n",
    "            row_count = self.row_counts[dst_parent] + self.row_counts[src_parent]\n",
    "            self.row_counts[dst_parent] = row_count\n",
    "            \n",
    "        if self.ranks[dst_parent] == self.ranks[src_parent]:\n",
    "            self.ranks[dst_parent] += 1\n",
    "        \n",
    "        if row_count > self.max_row_count:\n",
    "            self.max_row_count = row_count\n",
    "            \n",
    "        return True\n",
    "\n",
    "    def get_parent(self, table):\n",
    "        # find parent and compress path\n",
    "        if self.parents[table] == table:\n",
    "            return table\n",
    "        self.parents[table] = self.get_parent(self.parents[table])\n",
    "    \n",
    "        return self.parents[table]"
   ]
  },
  {
   "cell_type": "code",
   "execution_count": 9,
   "id": "4882048b-e77a-4869-a3a7-7926dbee5534",
   "metadata": {},
   "outputs": [],
   "source": [
    "def main():\n",
    "    n_tables, n_queries = map(int, input().split())\n",
    "    counts = list(map(int, input().split()))\n",
    "    assert len(counts) == n_tables\n",
    "    db = Database(counts)\n",
    "    for i in range(n_queries):\n",
    "        dst, src = map(int, input().split())\n",
    "        db.merge(dst - 1, src - 1)\n",
    "        print(db.max_row_count)"
   ]
  },
  {
   "cell_type": "raw",
   "id": "9d62ba6c-fac0-416e-8dfc-94f094f6c644",
   "metadata": {},
   "source": [
    "Test input:\n",
    "5 5\n",
    "1 1 1 1 1\n",
    "3 5\n",
    "2 4\n",
    "1 4\n",
    "5 4\n",
    "5 3\n",
    "Test output:\n",
    "2\n",
    "2\n",
    "3\n",
    "5\n",
    "5"
   ]
  },
  {
   "cell_type": "raw",
   "id": "7167817d-a433-41ee-8731-b3918dc5b76c",
   "metadata": {},
   "source": [
    "Test input:\n",
    "6 4\n",
    "10 0 5 0 3 3\n",
    "6 6\n",
    "6 5\n",
    "5 4\n",
    "4 3\n",
    "Test output:\n",
    "10\n",
    "10\n",
    "10\n",
    "11"
   ]
  },
  {
   "cell_type": "code",
   "execution_count": null,
   "id": "e43720be-6626-4cc6-9fb9-dda9d2305ee1",
   "metadata": {},
   "outputs": [],
   "source": []
  }
 ],
 "metadata": {
  "kernelspec": {
   "display_name": "Python 3",
   "language": "python",
   "name": "python3"
  },
  "language_info": {
   "codemirror_mode": {
    "name": "ipython",
    "version": 3
   },
   "file_extension": ".py",
   "mimetype": "text/x-python",
   "name": "python",
   "nbconvert_exporter": "python",
   "pygments_lexer": "ipython3",
   "version": "3.9.0"
  }
 },
 "nbformat": 4,
 "nbformat_minor": 5
}
