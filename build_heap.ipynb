{
 "cells": [
  {
   "cell_type": "code",
   "execution_count": 1,
   "id": "61721b7e-77d7-4a6e-8ec2-c5a797f4f779",
   "metadata": {},
   "outputs": [],
   "source": [
    "import math"
   ]
  },
  {
   "cell_type": "code",
   "execution_count": 2,
   "id": "8902494d-6308-46a1-9597-c2486fceda8c",
   "metadata": {},
   "outputs": [],
   "source": [
    "def sift_up(arr, i):\n",
    "    while arr[i] < arr[math.floor((i-1)/2)] and i != 0:\n",
    "        i = math.floor((i-1)/2)\n",
    "        \n",
    "    return i"
   ]
  },
  {
   "cell_type": "code",
   "execution_count": 3,
   "id": "cefb6de4-a3ae-4b9b-a136-56cee433bff6",
   "metadata": {},
   "outputs": [],
   "source": [
    "def sift_down(arr, i):\n",
    "    size_i = len(arr) - 1\n",
    "    \n",
    "    l_i = 2*i + 1\n",
    "    r_i = 2*i + 2\n",
    "    if l_i <= size_i and r_i <= size_i:\n",
    "        if arr[i] == max(arr[i], arr[l_i], arr[r_i]):\n",
    "            if arr[l_i] <= arr[r_i]:\n",
    "                i = l_i\n",
    "            elif arr[r_i] < arr[l_i]:\n",
    "                i = r_i   \n",
    "        elif arr[i] < arr[l_i] and arr[i] >= arr[r_i]:\n",
    "            i = r_i\n",
    "        elif arr[i] < arr[r_i] and arr[i] >= arr[l_i]:\n",
    "            i = l_i\n",
    "\n",
    "    elif l_i <= size_i:\n",
    "        if arr[i] >= arr[l_i]:\n",
    "            i = l_i\n",
    "            \n",
    "    return i"
   ]
  },
  {
   "cell_type": "code",
   "execution_count": 7,
   "id": "65bc83f2-fa5c-44a2-860c-7806b654fdf9",
   "metadata": {},
   "outputs": [],
   "source": [
    "def build_heap(data):\n",
    "    size = len(data) - 1\n",
    "    swaps = []\n",
    "    \n",
    "    i = size\n",
    "    while i >= 0:\n",
    "        current_i = i\n",
    "        while current_i != sift_down(data, current_i):\n",
    "            child = sift_down(data, current_i)\n",
    "            data[current_i], data[child] = data[child], data[current_i]\n",
    "            swaps.append((current_i, child))\n",
    "            current_i = child\n",
    "        i -= 1\n",
    "        \n",
    "    return data, swaps"
   ]
  },
  {
   "cell_type": "code",
   "execution_count": 8,
   "id": "61ce3404-1c6d-4c8e-a483-17bb239e8ee7",
   "metadata": {},
   "outputs": [
    {
     "name": "stdout",
     "output_type": "stream",
     "text": [
      "[1, 2, 3, 4, 5]\n",
      "[]\n"
     ]
    }
   ],
   "source": [
    "data = [1,2,3,4,5]\n",
    "sorted_data, swaps = build_heap(data)\n",
    "print(sorted_data)\n",
    "print(swaps)"
   ]
  },
  {
   "cell_type": "code",
   "execution_count": 9,
   "id": "fd5030a3-e090-4f19-ab2e-6377a4eabc53",
   "metadata": {},
   "outputs": [
    {
     "name": "stdout",
     "output_type": "stream",
     "text": [
      "[1, 2, 3, 5, 4]\n",
      "[(1, 4), (0, 1), (1, 3)]\n"
     ]
    }
   ],
   "source": [
    "data = [5,4,3,2,1]\n",
    "sorted_data, swaps = build_heap(data)\n",
    "print(sorted_data)\n",
    "print(swaps)"
   ]
  },
  {
   "cell_type": "code",
   "execution_count": null,
   "id": "458cc5e8-49c0-4744-9ad6-9948b7b24086",
   "metadata": {},
   "outputs": [],
   "source": []
  }
 ],
 "metadata": {
  "kernelspec": {
   "display_name": "Python 3",
   "language": "python",
   "name": "python3"
  },
  "language_info": {
   "codemirror_mode": {
    "name": "ipython",
    "version": 3
   },
   "file_extension": ".py",
   "mimetype": "text/x-python",
   "name": "python",
   "nbconvert_exporter": "python",
   "pygments_lexer": "ipython3",
   "version": "3.9.0"
  }
 },
 "nbformat": 4,
 "nbformat_minor": 5
}
