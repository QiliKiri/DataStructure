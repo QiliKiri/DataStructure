{
 "cells": [
  {
   "cell_type": "code",
   "execution_count": 1,
   "id": "de92c990-aa30-43b1-ba77-67aef300b7f3",
   "metadata": {},
   "outputs": [],
   "source": [
    "import math\n",
    "from collections import deque\n",
    "from collections import namedtuple"
   ]
  },
  {
   "cell_type": "code",
   "execution_count": 2,
   "id": "03b4dcc1-71f3-4d29-abf8-29ff13246cf7",
   "metadata": {},
   "outputs": [],
   "source": [
    "AssignedJob = namedtuple(\"AssignedJob\", [\"worker\", \"started_at\"])"
   ]
  },
  {
   "cell_type": "code",
   "execution_count": 3,
   "id": "655d3cc1-fb0f-4f70-ac1c-5e84b54df53f",
   "metadata": {},
   "outputs": [],
   "source": [
    "def heap_insert(arr, num, num_threads):\n",
    "    if arr == []:\n",
    "        arr.append(0)\n",
    "        arr.append(num)\n",
    "        return arr\n",
    "    \n",
    "    num_i = len(arr)\n",
    "    while num_i != 0:\n",
    "        parent_i = math.floor((num_i-1)/num_threads)\n",
    "        num += arr[parent_i]\n",
    "        num_i = parent_i\n",
    "        \n",
    "    arr.append(num)\n",
    "    \n",
    "    return arr"
   ]
  },
  {
   "cell_type": "code",
   "execution_count": 4,
   "id": "a66a8939-dfef-4868-9903-0c6d7427018f",
   "metadata": {},
   "outputs": [],
   "source": [
    "def sift_down(arr, num_i, num_threads):\n",
    "    max_i = len(arr) - 1\n",
    "    \n",
    "    while True:\n",
    "        if num_i == max_i:\n",
    "            return arr\n",
    "        \n",
    "        first_child_i = num_i * num_threads + 1\n",
    "        last_child_i = num_i * num_threads + num_threads\n",
    "        num_child = num_threads\n",
    "        \n",
    "        if first_child_i > max_i:\n",
    "            return arr\n",
    "        if last_child_i > max_i:\n",
    "            num_child -= (last_child_i - max_i)\n",
    "\n",
    "        if num_child == 1:\n",
    "            child_i = num_threads*num_i+1\n",
    "            if arr[num_i] > arr[child_i]:\n",
    "                arr[num_i], arr[child_i] = arr[child_i], arr[num_i]\n",
    "                num_i = child_i\n",
    "            else:\n",
    "                return arr\n",
    "        else:      \n",
    "            the_min = min(arr[num_i], *[arr[num_threads*num_i+i] for i in range(1, num_child+1)])\n",
    "            if the_min == arr[num_i]:\n",
    "                return arr\n",
    "            for i in range(1, num_child+1):\n",
    "                if arr[num_threads*num_i+i] == the_min:\n",
    "                    arr[num_threads*num_i+i], arr[num_i] = arr[num_i], arr[num_threads*num_i+i]\n",
    "                    num_i = num_threads*num_i+i\n",
    "                    break\n",
    "    "
   ]
  },
  {
   "cell_type": "code",
   "execution_count": 5,
   "id": "a6c1b435-42c4-415f-b2b2-67fb20c5b7fc",
   "metadata": {},
   "outputs": [],
   "source": [
    "def extract_min(arr, num_threads):\n",
    "    \n",
    "    if arr == []:\n",
    "        return\n",
    "    \n",
    "    the_min = arr[0]\n",
    "    arr[0], arr[-1] = arr[-1], arr[0]\n",
    "    arr.pop()\n",
    "    arr = sift_down(arr, 0, num_threads)\n",
    "    \n",
    "    return the_min, arr"
   ]
  },
  {
   "cell_type": "code",
   "execution_count": 6,
   "id": "adbf2508-578a-413e-af54-553a071ea442",
   "metadata": {},
   "outputs": [],
   "source": [
    "def next_free_time(jobs, num_threads):\n",
    "    arr = []\n",
    "    for number in jobs:\n",
    "        arr = heap_insert(arr, number, num_threads)\n",
    "    \n",
    "    free_time_lst = []\n",
    "    while arr != []:\n",
    "        the_min, arr = extract_min(arr, num_threads)\n",
    "        free_time_lst.append(the_min)\n",
    "        \n",
    "    return free_time_lst"
   ]
  },
  {
   "cell_type": "code",
   "execution_count": 7,
   "id": "ecba2f61-215e-472f-be17-923c8a58e41c",
   "metadata": {},
   "outputs": [],
   "source": [
    "def assign_jobs(workers, jobs):\n",
    "    free_time_lst = next_free_time(jobs, workers)\n",
    "    worker_lst = deque()\n",
    "    ans = []\n",
    "    \n",
    "    start_time, free_time_lst = extract_min(free_time_lst, workers)\n",
    "    for i in range(workers):\n",
    "        ans.append(AssignedJob(i, start_time))\n",
    "        worker_lst.append(i)\n",
    "      \n",
    "    num_job = len(jobs) - workers\n",
    "    while num_job > 0:\n",
    "        start_time, free_time_lst = extract_min(free_time_lst, workers)\n",
    "        worker = worker_lst.popleft()\n",
    "        worker_lst.append(worker)\n",
    "        ans.append(AssignedJob(worker, start_time))\n",
    "        num_job -= 1\n",
    "        \n",
    "    return ans"
   ]
  },
  {
   "cell_type": "code",
   "execution_count": 8,
   "id": "cb1b36fa-83ea-45bf-8bf7-593cc273fa62",
   "metadata": {},
   "outputs": [
    {
     "data": {
      "text/plain": [
       "[AssignedJob(worker=0, started_at=0),\n",
       " AssignedJob(worker=1, started_at=0),\n",
       " AssignedJob(worker=0, started_at=1),\n",
       " AssignedJob(worker=1, started_at=2),\n",
       " AssignedJob(worker=0, started_at=4)]"
      ]
     },
     "execution_count": 8,
     "metadata": {},
     "output_type": "execute_result"
    }
   ],
   "source": [
    "jobs = [1,2,3,4,5]\n",
    "workers = 2\n",
    "assign_jobs(workers, jobs)"
   ]
  },
  {
   "cell_type": "code",
   "execution_count": 9,
   "id": "043d3afe-c07c-44ae-be77-16c8f29a134f",
   "metadata": {},
   "outputs": [
    {
     "data": {
      "text/plain": [
       "[0, 1, 1, 1, 1, 2, 2, 2, 2, 2, 2, 2, 2, 2, 2, 2, 2, 2, 2, 2, 2]"
      ]
     },
     "execution_count": 9,
     "metadata": {},
     "output_type": "execute_result"
    }
   ],
   "source": [
    "jobs = [1]*20\n",
    "workers = 4\n",
    "next_free_time(jobs, workers)"
   ]
  },
  {
   "cell_type": "code",
   "execution_count": 10,
   "id": "7f9bff2a-08f3-4361-9c4f-212776507d4b",
   "metadata": {},
   "outputs": [],
   "source": [
    "def main():\n",
    "    n_workers, n_jobs = map(int, input().split())\n",
    "    jobs = list(map(int, input().split()))\n",
    "    assert len(jobs) == n_jobs\n",
    "\n",
    "    assigned_jobs = assign_jobs(n_workers, jobs)\n",
    "\n",
    "    for job in assigned_jobs:\n",
    "        print(job.worker, job.started_at)"
   ]
  },
  {
   "cell_type": "code",
   "execution_count": null,
   "id": "240dbc96-ace4-46fb-b6d9-4423bd598857",
   "metadata": {},
   "outputs": [],
   "source": []
  }
 ],
 "metadata": {
  "kernelspec": {
   "display_name": "Python 3",
   "language": "python",
   "name": "python3"
  },
  "language_info": {
   "codemirror_mode": {
    "name": "ipython",
    "version": 3
   },
   "file_extension": ".py",
   "mimetype": "text/x-python",
   "name": "python",
   "nbconvert_exporter": "python",
   "pygments_lexer": "ipython3",
   "version": "3.9.0"
  }
 },
 "nbformat": 4,
 "nbformat_minor": 5
}
