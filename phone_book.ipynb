{
 "cells": [
  {
   "cell_type": "code",
   "execution_count": 1,
   "id": "e7bea6e1-d581-48d7-8c81-83dc88a1ebdd",
   "metadata": {},
   "outputs": [],
   "source": [
    "class Query:\n",
    "    def __init__(self, query):\n",
    "        self.type = query[0]\n",
    "        self.number = int(query[1])\n",
    "        if self.type == 'add':\n",
    "            self.name = query[2]"
   ]
  },
  {
   "cell_type": "code",
   "execution_count": 2,
   "id": "7436c459-c3aa-4ba7-8f51-ad0ed0f9d306",
   "metadata": {},
   "outputs": [],
   "source": [
    "def read_queries():\n",
    "    n = int(input())\n",
    "    return [Query(input().split()) for i in range(n)]"
   ]
  },
  {
   "cell_type": "code",
   "execution_count": 3,
   "id": "9ac1ab88-a837-4c7d-ba7b-59abc418976d",
   "metadata": {},
   "outputs": [],
   "source": [
    "def write_responses(result):\n",
    "    print('\\n'.join(result))"
   ]
  },
  {
   "cell_type": "code",
   "execution_count": 5,
   "id": "72cc643e-8895-4eab-9c24-3e8180d34b02",
   "metadata": {},
   "outputs": [],
   "source": [
    "def process_queries(queries):\n",
    "    result = []\n",
    "    # Keep list of all existing (i.e. not deleted yet) contacts.\n",
    "    contacts = [None] * 10**7\n",
    "    for cur_query in queries:\n",
    "        if cur_query.type == 'add':\n",
    "            contacts[cur_query.number] = cur_query.name\n",
    "        elif cur_query.type == 'del':\n",
    "            contacts[cur_query.number] = None\n",
    "        elif cur_query.type == 'find':\n",
    "            if contacts[cur_query.number] == None:\n",
    "                result.append('not found')\n",
    "            else:\n",
    "                result.append(contacts[cur_query.number])\n",
    "\n",
    "    return result"
   ]
  },
  {
   "cell_type": "code",
   "execution_count": 8,
   "id": "7a7f30b8-0fd4-41b6-827f-f6be0b47c42b",
   "metadata": {},
   "outputs": [
    {
     "name": "stdin",
     "output_type": "stream",
     "text": [
      " 12\n",
      " add 911 police\n",
      " add 76213 Mom\n",
      " add 17239 Bob\n",
      " find 76213\n",
      " find 910\n",
      " find 911\n",
      " del 910\n",
      " del 911\n",
      " find 911\n",
      " find 76213\n",
      " add 76213 daddy\n",
      " find 76213\n"
     ]
    },
    {
     "name": "stdout",
     "output_type": "stream",
     "text": [
      "Mom\n",
      "not found\n",
      "police\n",
      "not found\n",
      "Mom\n",
      "daddy\n"
     ]
    }
   ],
   "source": [
    "if __name__ == '__main__':\n",
    "    write_responses(process_queries(read_queries()))"
   ]
  },
  {
   "cell_type": "raw",
   "id": "47e2d411-728d-431f-b2d3-70ad3f435b0e",
   "metadata": {},
   "source": [
    "Test input:\n",
    "add 911 police\n",
    "add 76213 Mom\n",
    "add 17239 Bob\n",
    "find 76213\n",
    "find 910\n",
    "find 911\n",
    "del 910\n",
    "del 911\n",
    "find 911\n",
    "find 76213\n",
    "add 76213 daddy\n",
    "find 76213\n",
    "\n",
    "Test output:\n",
    "Mom\n",
    "not found\n",
    "police\n",
    "not found\n",
    "Mom\n",
    "daddy"
   ]
  }
 ],
 "metadata": {
  "kernelspec": {
   "display_name": "Python 3",
   "language": "python",
   "name": "python3"
  },
  "language_info": {
   "codemirror_mode": {
    "name": "ipython",
    "version": 3
   },
   "file_extension": ".py",
   "mimetype": "text/x-python",
   "name": "python",
   "nbconvert_exporter": "python",
   "pygments_lexer": "ipython3",
   "version": "3.9.0"
  }
 },
 "nbformat": 4,
 "nbformat_minor": 5
}
