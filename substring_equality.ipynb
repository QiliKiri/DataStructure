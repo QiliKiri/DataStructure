{
 "cells": [
  {
   "cell_type": "code",
   "execution_count": 27,
   "id": "216e34a7-6ae8-45ac-bd9d-fd4fe7374b7c",
   "metadata": {},
   "outputs": [],
   "source": [
    "class Substring_equality():\n",
    "    def __init__(self):\n",
    "        self.str = input()\n",
    "        self.m1 = 10**9 + 7\n",
    "        self.m2 = 10**9 + 9\n",
    "        self.x = 263\n",
    "        self.hashtable1 = [0]*(len(self.str)+1)\n",
    "        self.hashtable2 = [0]*(len(self.str)+1)\n",
    "    \n",
    "    def precompute(self):\n",
    "        self.hashtable1[0] = 0\n",
    "        self.hashtable2[0] = 0\n",
    "        for i in range(1, len(self.str)+1):\n",
    "            self.hashtable1[i] = (self.x*self.hashtable1[i-1]%self.m1 + ord(self.str[i-1])) % self.m1\n",
    "            self.hashtable2[i] = (self.x*self.hashtable2[i-1]%self.m2 + ord(self.str[i-1])) % self.m2\n",
    "        \n",
    "    def hash_val(self, start, l):\n",
    "        y1 = pow(self.x, l, self.m1)\n",
    "        y2 = pow(self.x, l, self.m2)\n",
    "            \n",
    "        hval1 = (self.hashtable1[start+l] - self.hashtable1[start] * y1) % self.m1\n",
    "        hval2 = (self.hashtable2[start+l] - self.hashtable2[start] * y2) % self.m2\n",
    "        return hval1, hval2\n",
    "    \n",
    "    def areequal(self, hval1_a, hval2_a, hval1_b, hval2_b):\n",
    "        if hval1_a == hval1_b and hval2_a == hval2_b:\n",
    "            return True\n",
    "        else:\n",
    "            return False\n",
    "    \n",
    "    def processing(self):\n",
    "        self.precompute()\n",
    "        n = int(input())\n",
    "        for _ in range(n):\n",
    "            start_a, start_b, l = map(int, input().split())\n",
    "            hval1_a, hval2_a = self.hash_val(start_a, l)\n",
    "            hval1_b, hval2_b = self.hash_val(start_b, l)\n",
    "            if self.areequal(hval1_a, hval2_a, hval1_b, hval2_b):\n",
    "                print('Yes')\n",
    "            else:\n",
    "                print('No')"
   ]
  },
  {
   "cell_type": "code",
   "execution_count": 28,
   "id": "2f1c1750-fca2-431e-9099-6ae398530321",
   "metadata": {},
   "outputs": [
    {
     "name": "stdin",
     "output_type": "stream",
     "text": [
      " trololo\n",
      " 4\n",
      " 0 0 7\n"
     ]
    },
    {
     "name": "stdout",
     "output_type": "stream",
     "text": [
      "Yes\n"
     ]
    },
    {
     "name": "stdin",
     "output_type": "stream",
     "text": [
      " 2 4 3\n"
     ]
    },
    {
     "name": "stdout",
     "output_type": "stream",
     "text": [
      "Yes\n"
     ]
    },
    {
     "name": "stdin",
     "output_type": "stream",
     "text": [
      " 3 5 1\n"
     ]
    },
    {
     "name": "stdout",
     "output_type": "stream",
     "text": [
      "Yes\n"
     ]
    },
    {
     "name": "stdin",
     "output_type": "stream",
     "text": [
      " 1 3 2\n"
     ]
    },
    {
     "name": "stdout",
     "output_type": "stream",
     "text": [
      "No\n"
     ]
    }
   ],
   "source": [
    "a = Substring_equality()\n",
    "a.processing()"
   ]
  },
  {
   "cell_type": "raw",
   "id": "ed1a23f5-7563-4de2-a839-1e9d12f0718c",
   "metadata": {},
   "source": [
    "Test input:\n",
    "trololo\n",
    "4\n",
    "0 0 7\n",
    "2 4 3\n",
    "3 5 1\n",
    "1 3 2\n",
    "\n",
    "Test output:\n",
    "Yes\n",
    "Yes\n",
    "Yes\n",
    "No"
   ]
  },
  {
   "cell_type": "code",
   "execution_count": null,
   "id": "ac187f2e-97c1-4084-b5db-b76336c7daa8",
   "metadata": {},
   "outputs": [],
   "source": []
  }
 ],
 "metadata": {
  "kernelspec": {
   "display_name": "Python 3",
   "language": "python",
   "name": "python3"
  },
  "language_info": {
   "codemirror_mode": {
    "name": "ipython",
    "version": 3
   },
   "file_extension": ".py",
   "mimetype": "text/x-python",
   "name": "python",
   "nbconvert_exporter": "python",
   "pygments_lexer": "ipython3",
   "version": "3.9.0"
  }
 },
 "nbformat": 4,
 "nbformat_minor": 5
}
