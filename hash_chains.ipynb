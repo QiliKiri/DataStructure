{
 "cells": [
  {
   "cell_type": "code",
   "execution_count": 1,
   "id": "71c1b281-4729-4b24-ad11-d8d4821fb943",
   "metadata": {},
   "outputs": [],
   "source": [
    "class Query:\n",
    "\n",
    "    def __init__(self, query):\n",
    "        self.type = query[0]\n",
    "        if self.type == 'check':\n",
    "            self.ind = int(query[1])\n",
    "        else:\n",
    "            self.s = query[1]"
   ]
  },
  {
   "cell_type": "code",
   "execution_count": 80,
   "id": "8ec2dc0b-ed71-4b01-842f-aa921231c0a0",
   "metadata": {},
   "outputs": [],
   "source": [
    "class QueryProcessor:\n",
    "    _multiplier = 263\n",
    "    _prime = 1000000007\n",
    "\n",
    "    def __init__(self, bucket_count):\n",
    "        self.bucket_count = bucket_count\n",
    "        # store all strings in one list\n",
    "        self.hashtable = [[] for _ in range(self.bucket_count)]\n",
    "        \n",
    "    def _hash_func(self, s):\n",
    "        ans = 0\n",
    "        for c in reversed(s):\n",
    "            ans = (ans * self._multiplier + ord(c)) % self._prime\n",
    "        return ans % self.bucket_count\n",
    "\n",
    "    def write_search_result(self, was_found):\n",
    "        print('yes' if was_found else 'no')\n",
    "\n",
    "    def write_chain(self, chain):\n",
    "        print(' '.join(chain))\n",
    "\n",
    "    def read_query(self):\n",
    "        return Query(input().split())\n",
    "\n",
    "    def process_query(self, query):\n",
    "        if query.type == \"check\":\n",
    "            chain = self.hashtable[query.ind][::-1]\n",
    "            self.write_chain(chain)\n",
    "        else:\n",
    "            hval = self._hash_func(query.s)\n",
    "            chain = self.hashtable[hval]\n",
    "            \n",
    "            try:\n",
    "                ind = chain.index(query.s)\n",
    "            except ValueError:\n",
    "                ind = -1\n",
    "                \n",
    "            if query.type == 'find':\n",
    "                self.write_search_result(ind != -1)\n",
    "                        \n",
    "            elif query.type == 'add':\n",
    "                if ind == -1:\n",
    "                    self.hashtable[hval].append(query.s)\n",
    "                    \n",
    "            elif query.type == 'del':\n",
    "                if ind != -1:\n",
    "                    self.hashtable[hval].pop(ind)\n",
    "\n",
    "    def process_queries(self):\n",
    "        n = int(input())\n",
    "        for i in range(n):\n",
    "            self.process_query(self.read_query())"
   ]
  },
  {
   "cell_type": "code",
   "execution_count": 81,
   "id": "fd7c8c37-6bfc-4ac5-846c-2aa719f9383f",
   "metadata": {},
   "outputs": [
    {
     "name": "stdin",
     "output_type": "stream",
     "text": [
      " 5\n",
      " 12\n",
      " add world\n",
      " add HellO\n",
      " check 4\n"
     ]
    },
    {
     "name": "stdout",
     "output_type": "stream",
     "text": [
      "HellO world\n"
     ]
    },
    {
     "name": "stdin",
     "output_type": "stream",
     "text": [
      " find World\n"
     ]
    },
    {
     "name": "stdout",
     "output_type": "stream",
     "text": [
      "no\n"
     ]
    },
    {
     "name": "stdin",
     "output_type": "stream",
     "text": [
      " find world\n"
     ]
    },
    {
     "name": "stdout",
     "output_type": "stream",
     "text": [
      "yes\n"
     ]
    },
    {
     "name": "stdin",
     "output_type": "stream",
     "text": [
      " del world\n",
      " check 4\n"
     ]
    },
    {
     "name": "stdout",
     "output_type": "stream",
     "text": [
      "HellO\n"
     ]
    },
    {
     "name": "stdin",
     "output_type": "stream",
     "text": [
      " del HellO\n",
      " add luck\n",
      " add GooD\n",
      " check 2\n"
     ]
    },
    {
     "name": "stdout",
     "output_type": "stream",
     "text": [
      "GooD luck\n"
     ]
    },
    {
     "name": "stdin",
     "output_type": "stream",
     "text": [
      " del good\n"
     ]
    }
   ],
   "source": [
    "if __name__ == '__main__':\n",
    "    bucket_count = int(input())\n",
    "    proc = QueryProcessor(bucket_count)\n",
    "    proc.process_queries()"
   ]
  },
  {
   "cell_type": "raw",
   "id": "4eb7717d-279e-48d6-9989-acb5deb422bc",
   "metadata": {},
   "source": [
    "Test input:\n",
    "5\n",
    "12\n",
    "add world\n",
    "add HellO\n",
    "check 4\n",
    "find World\n",
    "find world\n",
    "del world\n",
    "check 4\n",
    "del HellO\n",
    "add luck\n",
    "add GooD\n",
    "check 2\n",
    "del good\n",
    "\n",
    "Test output:\n",
    "HellO world\n",
    "no\n",
    "yes\n",
    "HellO\n",
    "GooD luck"
   ]
  }
 ],
 "metadata": {
  "kernelspec": {
   "display_name": "Python 3",
   "language": "python",
   "name": "python3"
  },
  "language_info": {
   "codemirror_mode": {
    "name": "ipython",
    "version": 3
   },
   "file_extension": ".py",
   "mimetype": "text/x-python",
   "name": "python",
   "nbconvert_exporter": "python",
   "pygments_lexer": "ipython3",
   "version": "3.9.0"
  }
 },
 "nbformat": 4,
 "nbformat_minor": 5
}
