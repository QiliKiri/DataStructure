{
 "cells": [
  {
   "cell_type": "code",
   "execution_count": 2,
   "id": "89585b82-ab78-4e73-a2df-7191acfcfe34",
   "metadata": {},
   "outputs": [],
   "source": [
    "from collections import namedtuple\n",
    "\n",
    "Bracket = namedtuple(\"Bracket\", [\"char\", \"position\"])"
   ]
  },
  {
   "cell_type": "code",
   "execution_count": 3,
   "id": "d05f8993-2ba0-48aa-9371-e811b5318876",
   "metadata": {},
   "outputs": [],
   "source": [
    "def are_matching(left, right):\n",
    "    return (left + right) in [\"()\", \"[]\", \"{}\"]"
   ]
  },
  {
   "cell_type": "code",
   "execution_count": 20,
   "id": "eb2bee67-2079-4387-acd8-ac41fbe0f206",
   "metadata": {},
   "outputs": [],
   "source": [
    "def find_mismatch(text):\n",
    "    opening_brackets_stack = []\n",
    "    for i, next in enumerate(text):\n",
    "        if next in \"([{\":\n",
    "            # Process opening bracket, write your code here\n",
    "            opening_brackets_stack.append([i, next])\n",
    "\n",
    "        if next in \")]}\":\n",
    "            # Process closing bracket, write your code here\n",
    "            if len(opening_brackets_stack) < 1:\n",
    "                return i + 1\n",
    "            left = opening_brackets_stack.pop()[1]\n",
    "            right = next\n",
    "            if not are_matching(left, right):\n",
    "                return i + 1\n",
    "    if len(opening_brackets_stack) > 0:\n",
    "        return opening_brackets_stack[0][0] + 1\n",
    "    else:\n",
    "        return 'Success'"
   ]
  },
  {
   "cell_type": "code",
   "execution_count": 21,
   "id": "582b407c-a81f-4fc3-ab79-8ca7cf52bfb8",
   "metadata": {},
   "outputs": [],
   "source": [
    "def main():\n",
    "    text = input()\n",
    "    mismatch = find_mismatch(text)\n",
    "    # Printing answer, write your code here\n",
    "    print(mismatch)"
   ]
  },
  {
   "cell_type": "code",
   "execution_count": 23,
   "id": "1e6d0ef4-dca3-4834-ac88-8d12b99e9808",
   "metadata": {},
   "outputs": [
    {
     "name": "stdin",
     "output_type": "stream",
     "text": [
      " ((()))))\n"
     ]
    },
    {
     "name": "stdout",
     "output_type": "stream",
     "text": [
      "7\n"
     ]
    }
   ],
   "source": [
    "main()"
   ]
  },
  {
   "cell_type": "code",
   "execution_count": null,
   "id": "2f1f58aa-2e4d-4e11-947d-ac0c12e01d92",
   "metadata": {},
   "outputs": [],
   "source": []
  }
 ],
 "metadata": {
  "kernelspec": {
   "display_name": "Python 3",
   "language": "python",
   "name": "python3"
  },
  "language_info": {
   "codemirror_mode": {
    "name": "ipython",
    "version": 3
   },
   "file_extension": ".py",
   "mimetype": "text/x-python",
   "name": "python",
   "nbconvert_exporter": "python",
   "pygments_lexer": "ipython3",
   "version": "3.9.0"
  }
 },
 "nbformat": 4,
 "nbformat_minor": 5
}
