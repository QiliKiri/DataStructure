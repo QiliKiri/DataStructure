{
 "cells": [
  {
   "cell_type": "code",
   "execution_count": 1,
   "id": "678eaeae-da69-4160-8453-3448dee42b7b",
   "metadata": {},
   "outputs": [],
   "source": [
    "from collections import namedtuple"
   ]
  },
  {
   "cell_type": "code",
   "execution_count": 2,
   "id": "4244a499-f904-42f4-a4e4-6cb303c350b5",
   "metadata": {},
   "outputs": [],
   "source": [
    "AssignedJob = namedtuple(\"AssignedJob\", [\"worker\", \"started_at\"])"
   ]
  },
  {
   "cell_type": "code",
   "execution_count": 37,
   "id": "98e49a8d-5981-4284-b28c-9bb664c7d3c8",
   "metadata": {},
   "outputs": [],
   "source": [
    "def assign_jobs(n_workers, jobs):\n",
    "    work_list = []\n",
    "    job_i = 0\n",
    "    start_time = 0\n",
    "    work_i = 0\n",
    "    ans = []\n",
    "    for i in range(n_workers):\n",
    "        work_list.append((i, start_time, jobs[job_i]))\n",
    "        ans.append(AssignedJob(i, start_time))\n",
    "        job_i += 1\n",
    "        \n",
    "    for job in range(job_i, len(jobs)):\n",
    "        work_list.sort(key=lambda x: (x[2], x[0]), reverse=True)\n",
    "        free_worker, _, finish_time = work_list.pop()\n",
    "        work_list.append((free_worker, finish_time, finish_time+jobs[job]))\n",
    "        ans.append(AssignedJob(free_worker, finish_time))\n",
    "        \n",
    "    return ans"
   ]
  },
  {
   "cell_type": "code",
   "execution_count": 38,
   "id": "2686c84e-d73b-4a23-859b-6ae449e00032",
   "metadata": {},
   "outputs": [
    {
     "data": {
      "text/plain": [
       "[AssignedJob(worker=0, started_at=0),\n",
       " AssignedJob(worker=1, started_at=0),\n",
       " AssignedJob(worker=2, started_at=0),\n",
       " AssignedJob(worker=3, started_at=0),\n",
       " AssignedJob(worker=0, started_at=1),\n",
       " AssignedJob(worker=1, started_at=1),\n",
       " AssignedJob(worker=2, started_at=1),\n",
       " AssignedJob(worker=3, started_at=1),\n",
       " AssignedJob(worker=0, started_at=2),\n",
       " AssignedJob(worker=1, started_at=2),\n",
       " AssignedJob(worker=2, started_at=2),\n",
       " AssignedJob(worker=3, started_at=2),\n",
       " AssignedJob(worker=0, started_at=3),\n",
       " AssignedJob(worker=1, started_at=3),\n",
       " AssignedJob(worker=2, started_at=3),\n",
       " AssignedJob(worker=3, started_at=3),\n",
       " AssignedJob(worker=0, started_at=4),\n",
       " AssignedJob(worker=1, started_at=4),\n",
       " AssignedJob(worker=2, started_at=4),\n",
       " AssignedJob(worker=3, started_at=4)]"
      ]
     },
     "execution_count": 38,
     "metadata": {},
     "output_type": "execute_result"
    }
   ],
   "source": [
    "n_workers = 4\n",
    "jobs = [1, 1, 1, 1, 1, 1, 1, 1, 1, 1, 1, 1, 1, 1, 1, 1, 1, 1, 1, 1]\n",
    "assign_jobs(n_workers, jobs)"
   ]
  },
  {
   "cell_type": "code",
   "execution_count": 39,
   "id": "193466c2-e301-42eb-a43c-e3c2287edae6",
   "metadata": {},
   "outputs": [
    {
     "name": "stdout",
     "output_type": "stream",
     "text": [
      "0 0\n",
      "1 0\n",
      "0 1\n",
      "1 2\n",
      "0 4\n"
     ]
    }
   ],
   "source": [
    "n_workers = 2\n",
    "jobs = [1,2,3,4,5]\n",
    "ans = assign_jobs(n_workers, jobs)\n",
    "for job in ans:\n",
    "    print(job.worker, job.started_at)"
   ]
  },
  {
   "cell_type": "code",
   "execution_count": 32,
   "id": "955cb891-ad91-40c2-8083-d5de57013288",
   "metadata": {},
   "outputs": [],
   "source": [
    "jobs = [1,2,3,4,5]\n",
    "jobs.sort(reverse = True)\n"
   ]
  },
  {
   "cell_type": "code",
   "execution_count": 34,
   "id": "31676c9c-6ed2-49d7-89f3-ec8d309730d8",
   "metadata": {},
   "outputs": [
    {
     "data": {
      "text/plain": [
       "1"
      ]
     },
     "execution_count": 34,
     "metadata": {},
     "output_type": "execute_result"
    }
   ],
   "source": [
    "jobs.pop()"
   ]
  },
  {
   "cell_type": "code",
   "execution_count": null,
   "id": "38bb1af2-57de-4170-b657-4ffca63ee32e",
   "metadata": {},
   "outputs": [],
   "source": []
  }
 ],
 "metadata": {
  "kernelspec": {
   "display_name": "Python 3",
   "language": "python",
   "name": "python3"
  },
  "language_info": {
   "codemirror_mode": {
    "name": "ipython",
    "version": 3
   },
   "file_extension": ".py",
   "mimetype": "text/x-python",
   "name": "python",
   "nbconvert_exporter": "python",
   "pygments_lexer": "ipython3",
   "version": "3.9.0"
  }
 },
 "nbformat": 4,
 "nbformat_minor": 5
}
