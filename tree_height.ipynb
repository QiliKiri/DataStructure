{
 "cells": [
  {
   "cell_type": "code",
   "execution_count": 50,
   "id": "16aa4b00-dc26-420a-bf65-b1168c860a0d",
   "metadata": {},
   "outputs": [],
   "source": [
    "class Node():\n",
    "    def __init__(self, key, parent):\n",
    "        self.key = key\n",
    "        self.parent = parent\n",
    "        self.child = []\n",
    "    def add_child(self, child):\n",
    "        self.child.append(child)"
   ]
  },
  {
   "cell_type": "code",
   "execution_count": 51,
   "id": "ec4899f6-f7b6-4ca1-9ba6-0c1e83846bdb",
   "metadata": {},
   "outputs": [],
   "source": [
    "def build_tree(parents):\n",
    "    nodes = []\n",
    "    for key, parent in enumerate(parents):\n",
    "        nodes.append(Node(key, parent))\n",
    "        \n",
    "    for i in range(len(nodes)):\n",
    "        if nodes[i].parent == -1:\n",
    "            root = nodes[i]\n",
    "        else:\n",
    "            parent_index = nodes[i].parent\n",
    "            nodes[parent_index].add_child(nodes[i])\n",
    "    return nodes, root"
   ]
  },
  {
   "cell_type": "code",
   "execution_count": 88,
   "id": "58dc1736-3c91-4fe1-b19e-1a87f56293c6",
   "metadata": {},
   "outputs": [],
   "source": [
    "def relationship(nodes):\n",
    "    for i, node in enumerate(nodes):\n",
    "        childs = []\n",
    "        for child in node.child:\n",
    "            childs.append(child.key)\n",
    "        print(f'{i}\\'s parent is {node.parent}, its child is {childs}')"
   ]
  },
  {
   "cell_type": "code",
   "execution_count": 125,
   "id": "8feec28b-d633-4c07-b819-97ed05acc653",
   "metadata": {},
   "outputs": [],
   "source": [
    "def height(root):\n",
    "    if len(root.child) < 1:\n",
    "        return 1\n",
    "    else:\n",
    "        childs = [child for child in root.child]\n",
    "        h = 1 + max(map(height, childs))\n",
    "        \n",
    "    return h"
   ]
  },
  {
   "cell_type": "code",
   "execution_count": 129,
   "id": "9ecf5eb6-08c7-4d89-883e-6f474bd49ba7",
   "metadata": {},
   "outputs": [
    {
     "name": "stdout",
     "output_type": "stream",
     "text": [
      "0's parent is 4, its child is []\n",
      "1's parent is -1, its child is [3, 4]\n",
      "2's parent is 4, its child is []\n",
      "3's parent is 1, its child is []\n",
      "4's parent is 1, its child is [0, 2]\n",
      "\n",
      "\n",
      "3\n",
      "0\n",
      "2\n",
      "4\n",
      "1\n",
      "\n",
      "\n",
      "3\n"
     ]
    }
   ],
   "source": [
    "parents = [4, -1, 4, 1, 1]\n",
    "nodes, root = build_tree(parents)\n",
    "relationship(nodes)\n",
    "print('\\n')\n",
    "breadth_first(root)\n",
    "print('\\n')\n",
    "print(height(root))"
   ]
  },
  {
   "cell_type": "code",
   "execution_count": 130,
   "id": "cfd34d08-bb67-406b-8c78-0bff4d9aff80",
   "metadata": {},
   "outputs": [
    {
     "name": "stdout",
     "output_type": "stream",
     "text": [
      "0's parent is -1, its child is [1, 3]\n",
      "1's parent is 0, its child is []\n",
      "2's parent is 4, its child is []\n",
      "3's parent is 0, its child is [4]\n",
      "4's parent is 3, its child is [2]\n",
      "\n",
      "\n",
      "1\n",
      "2\n",
      "4\n",
      "3\n",
      "0\n",
      "\n",
      "\n",
      "4\n"
     ]
    }
   ],
   "source": [
    "parents = [-1, 0, 4, 0, 3]\n",
    "nodes, root = build_tree(parents)\n",
    "relationship(nodes)\n",
    "print('\\n')\n",
    "breadth_first(root)\n",
    "print('\\n')\n",
    "print(height(root))"
   ]
  },
  {
   "cell_type": "code",
   "execution_count": 128,
   "id": "e8514a91-f5e0-458e-a4d3-dced3f4fb0c3",
   "metadata": {},
   "outputs": [
    {
     "data": {
      "text/plain": [
       "4"
      ]
     },
     "execution_count": 128,
     "metadata": {},
     "output_type": "execute_result"
    }
   ],
   "source": [
    "height(root)"
   ]
  },
  {
   "cell_type": "code",
   "execution_count": null,
   "id": "5effd3e9-a9b8-4803-9b25-957fa9040c2d",
   "metadata": {},
   "outputs": [],
   "source": []
  }
 ],
 "metadata": {
  "kernelspec": {
   "display_name": "Python 3",
   "language": "python",
   "name": "python3"
  },
  "language_info": {
   "codemirror_mode": {
    "name": "ipython",
    "version": 3
   },
   "file_extension": ".py",
   "mimetype": "text/x-python",
   "name": "python",
   "nbconvert_exporter": "python",
   "pygments_lexer": "ipython3",
   "version": "3.9.0"
  }
 },
 "nbformat": 4,
 "nbformat_minor": 5
}
