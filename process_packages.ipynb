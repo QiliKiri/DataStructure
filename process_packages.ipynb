{
 "cells": [
  {
   "cell_type": "code",
   "execution_count": 6,
   "id": "995ef7cc-ec73-4644-9f0e-5a0c8fd23d6f",
   "metadata": {},
   "outputs": [],
   "source": [
    "from collections import namedtuple\n",
    "\n",
    "Request = namedtuple(\"Request\", [\"arrived_at\", \"time_to_process\"])\n",
    "Response = namedtuple(\"Response\", [\"was_dropped\", \"started_at\"])"
   ]
  },
  {
   "cell_type": "code",
   "execution_count": 11,
   "id": "d8d9e774-a5bf-4c6f-a58e-1c4acc8c2dc1",
   "metadata": {},
   "outputs": [],
   "source": [
    "class Buffer:\n",
    "    def __init__(self, size):\n",
    "        self.size = size\n",
    "        self.finish_time = []\n",
    "      \n",
    "    def process(self, request):\n",
    "        \n",
    "        while self.finish_time != []:\n",
    "            if request.arrived_at >= self.finish_time[0]:\n",
    "                self.finish_time.pop(0)\n",
    "            else:\n",
    "                break\n",
    "                \n",
    "        if len(self.finish_time) >= self.size:\n",
    "            return Response(True, -1)\n",
    "        \n",
    "        else:\n",
    "            if self.finish_time == []:\n",
    "                self.finish_time.append(request.arrived_at + request.time_to_process)\n",
    "                return Response(False, request.arrived_at)\n",
    "            elif self.finish_time[-1] >= request.arrived_at:\n",
    "                last_finish_time = self.finish_time[-1]\n",
    "                self.finish_time.append(last_finish_time + request.time_to_process)\n",
    "                return Response(False, last_finish_time)\n",
    "            elif request.arrived_at > self.finish_time[-1]:\n",
    "                self.finish_time.append(request.arrived_at + request.time_to_process)\n",
    "                return Response(False, request.arrived_at)"
   ]
  },
  {
   "cell_type": "code",
   "execution_count": 12,
   "id": "7aba28b8-1dc7-4af0-bcf0-378bbdb4c0ee",
   "metadata": {},
   "outputs": [],
   "source": [
    "def process_requests(requests, buffer):\n",
    "    responses = []\n",
    "    for request in requests:\n",
    "        responses.append(buffer.process(request))\n",
    "    return responses"
   ]
  },
  {
   "cell_type": "code",
   "execution_count": 13,
   "id": "1a47ea76-73d9-44dd-8c2d-8fb3d2d548da",
   "metadata": {},
   "outputs": [],
   "source": [
    "def main():\n",
    "    buffer_size, n_requests = map(int, input().split())\n",
    "    requests = []\n",
    "    for _ in range(n_requests):\n",
    "        arrived_at, time_to_process = map(int, input().split())\n",
    "        requests.append(Request(arrived_at, time_to_process))\n",
    "\n",
    "    buffer = Buffer(buffer_size)\n",
    "    responses = process_requests(requests, buffer)\n",
    "\n",
    "    for response in responses:\n",
    "        print(response.started_at if not response.was_dropped else -1)"
   ]
  },
  {
   "cell_type": "code",
   "execution_count": 14,
   "id": "e57b4f12-151b-48a7-9e57-d9b9fd3f01b1",
   "metadata": {},
   "outputs": [
    {
     "name": "stdin",
     "output_type": "stream",
     "text": [
      " 2 3\n",
      " 0 2\n",
      " 1 4\n",
      " 5 3\n"
     ]
    },
    {
     "name": "stdout",
     "output_type": "stream",
     "text": [
      "0\n",
      "2\n",
      "6\n"
     ]
    }
   ],
   "source": [
    "main()"
   ]
  },
  {
   "cell_type": "code",
   "execution_count": 71,
   "id": "37db5003-f56a-4313-b195-09f8fb184334",
   "metadata": {},
   "outputs": [
    {
     "name": "stdin",
     "output_type": "stream",
     "text": [
      " 2 3\n",
      " 0 2\n",
      " 1 4\n",
      " 5 3\n"
     ]
    },
    {
     "ename": "AttributeError",
     "evalue": "'Request' object has no attribute 'arrived_time'",
     "output_type": "error",
     "traceback": [
      "\u001b[1;31m---------------------------------------------------------------------------\u001b[0m",
      "\u001b[1;31mAttributeError\u001b[0m                            Traceback (most recent call last)",
      "\u001b[1;32m<ipython-input-71-263240bbee7e>\u001b[0m in \u001b[0;36m<module>\u001b[1;34m\u001b[0m\n\u001b[1;32m----> 1\u001b[1;33m \u001b[0mmain\u001b[0m\u001b[1;33m(\u001b[0m\u001b[1;33m)\u001b[0m\u001b[1;33m\u001b[0m\u001b[1;33m\u001b[0m\u001b[0m\n\u001b[0m",
      "\u001b[1;32m<ipython-input-70-2c3184fcdd94>\u001b[0m in \u001b[0;36mmain\u001b[1;34m()\u001b[0m\n\u001b[0;32m      7\u001b[0m \u001b[1;33m\u001b[0m\u001b[0m\n\u001b[0;32m      8\u001b[0m     \u001b[0mbuffer\u001b[0m \u001b[1;33m=\u001b[0m \u001b[0mBuffer\u001b[0m\u001b[1;33m(\u001b[0m\u001b[0mbuffer_size\u001b[0m\u001b[1;33m)\u001b[0m\u001b[1;33m\u001b[0m\u001b[1;33m\u001b[0m\u001b[0m\n\u001b[1;32m----> 9\u001b[1;33m     \u001b[0mresponses\u001b[0m \u001b[1;33m=\u001b[0m \u001b[0mprocess_requests\u001b[0m\u001b[1;33m(\u001b[0m\u001b[0mrequests\u001b[0m\u001b[1;33m,\u001b[0m \u001b[0mbuffer\u001b[0m\u001b[1;33m)\u001b[0m\u001b[1;33m\u001b[0m\u001b[1;33m\u001b[0m\u001b[0m\n\u001b[0m\u001b[0;32m     10\u001b[0m \u001b[1;33m\u001b[0m\u001b[0m\n\u001b[0;32m     11\u001b[0m     \u001b[1;32mfor\u001b[0m \u001b[0mresponse\u001b[0m \u001b[1;32min\u001b[0m \u001b[0mresponses\u001b[0m\u001b[1;33m:\u001b[0m\u001b[1;33m\u001b[0m\u001b[1;33m\u001b[0m\u001b[0m\n",
      "\u001b[1;32m<ipython-input-69-22df8354f902>\u001b[0m in \u001b[0;36mprocess_requests\u001b[1;34m(requests, buffer)\u001b[0m\n\u001b[0;32m      2\u001b[0m     \u001b[0mresponses\u001b[0m \u001b[1;33m=\u001b[0m \u001b[1;33m[\u001b[0m\u001b[1;33m]\u001b[0m\u001b[1;33m\u001b[0m\u001b[1;33m\u001b[0m\u001b[0m\n\u001b[0;32m      3\u001b[0m     \u001b[1;32mfor\u001b[0m \u001b[0mrequest\u001b[0m \u001b[1;32min\u001b[0m \u001b[0mrequests\u001b[0m\u001b[1;33m:\u001b[0m\u001b[1;33m\u001b[0m\u001b[1;33m\u001b[0m\u001b[0m\n\u001b[1;32m----> 4\u001b[1;33m         \u001b[0mresponses\u001b[0m\u001b[1;33m.\u001b[0m\u001b[0mappend\u001b[0m\u001b[1;33m(\u001b[0m\u001b[0mbuffer\u001b[0m\u001b[1;33m.\u001b[0m\u001b[0mprocess\u001b[0m\u001b[1;33m(\u001b[0m\u001b[0mrequest\u001b[0m\u001b[1;33m)\u001b[0m\u001b[1;33m)\u001b[0m\u001b[1;33m\u001b[0m\u001b[1;33m\u001b[0m\u001b[0m\n\u001b[0m\u001b[0;32m      5\u001b[0m     \u001b[1;32mreturn\u001b[0m \u001b[0mresponses\u001b[0m\u001b[1;33m\u001b[0m\u001b[1;33m\u001b[0m\u001b[0m\n",
      "\u001b[1;32m<ipython-input-68-1ae9c8868209>\u001b[0m in \u001b[0;36mprocess\u001b[1;34m(self, request)\u001b[0m\n\u001b[0;32m     19\u001b[0m             \u001b[0mself\u001b[0m\u001b[1;33m.\u001b[0m\u001b[0mfinish_time\u001b[0m \u001b[1;33m=\u001b[0m \u001b[1;36m0\u001b[0m\u001b[1;33m\u001b[0m\u001b[1;33m\u001b[0m\u001b[0m\n\u001b[0;32m     20\u001b[0m         \u001b[1;32melse\u001b[0m\u001b[1;33m:\u001b[0m\u001b[1;33m\u001b[0m\u001b[1;33m\u001b[0m\u001b[0m\n\u001b[1;32m---> 21\u001b[1;33m             \u001b[0mself\u001b[0m\u001b[1;33m.\u001b[0m\u001b[0mbuffer\u001b[0m \u001b[1;33m+=\u001b[0m \u001b[0mself\u001b[0m\u001b[1;33m.\u001b[0m\u001b[0mfinish_time\u001b[0m \u001b[1;33m-\u001b[0m \u001b[0mrequest\u001b[0m\u001b[1;33m.\u001b[0m\u001b[0marrived_time\u001b[0m\u001b[1;33m\u001b[0m\u001b[1;33m\u001b[0m\u001b[0m\n\u001b[0m\u001b[0;32m     22\u001b[0m             \u001b[0mself\u001b[0m\u001b[1;33m.\u001b[0m\u001b[0mfinish_time\u001b[0m \u001b[1;33m-=\u001b[0m \u001b[0mself\u001b[0m\u001b[1;33m.\u001b[0m\u001b[0mfinish_time\u001b[0m \u001b[1;33m-\u001b[0m \u001b[0mrequest\u001b[0m\u001b[1;33m.\u001b[0m\u001b[0marrived_time\u001b[0m\u001b[1;33m\u001b[0m\u001b[1;33m\u001b[0m\u001b[0m\n\u001b[0;32m     23\u001b[0m \u001b[1;33m\u001b[0m\u001b[0m\n",
      "\u001b[1;31mAttributeError\u001b[0m: 'Request' object has no attribute 'arrived_time'"
     ]
    }
   ],
   "source": [
    "main()"
   ]
  },
  {
   "cell_type": "code",
   "execution_count": 66,
   "id": "89e49ee3-cf87-4acc-9f7b-c7245ce8442b",
   "metadata": {},
   "outputs": [
    {
     "name": "stdin",
     "output_type": "stream",
     "text": [
      " 2 3\n",
      " 0 2\n",
      " 1 4\n",
      " 5 3\n"
     ]
    },
    {
     "name": "stdout",
     "output_type": "stream",
     "text": [
      "0\n",
      "-1\n",
      "5\n"
     ]
    }
   ],
   "source": [
    "main()"
   ]
  },
  {
   "cell_type": "code",
   "execution_count": null,
   "id": "047158ba-f6d6-4b6f-aad6-51938632a417",
   "metadata": {},
   "outputs": [],
   "source": []
  }
 ],
 "metadata": {
  "kernelspec": {
   "display_name": "Python 3",
   "language": "python",
   "name": "python3"
  },
  "language_info": {
   "codemirror_mode": {
    "name": "ipython",
    "version": 3
   },
   "file_extension": ".py",
   "mimetype": "text/x-python",
   "name": "python",
   "nbconvert_exporter": "python",
   "pygments_lexer": "ipython3",
   "version": "3.9.0"
  }
 },
 "nbformat": 4,
 "nbformat_minor": 5
}
